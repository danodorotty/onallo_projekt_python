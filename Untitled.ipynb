{
 "cells": [
  {
   "cell_type": "code",
   "execution_count": 1,
   "id": "cde91372",
   "metadata": {},
   "outputs": [],
   "source": [
    "#imports\n",
    "import pysat\n",
    "import numpy as np\n",
    "import matplotlib as plt\n",
    "import pandas as pd\n",
    "from pysat.solvers import Glucose3\n",
    "from pysat.card import *\n",
    "import time\n",
    "import datetime\n",
    "from numpy import savetxt"
   ]
  },
  {
   "cell_type": "code",
   "execution_count": 2,
   "id": "97271059",
   "metadata": {},
   "outputs": [],
   "source": [
    "q=17\n",
    "valtozok=[i+1 for i in range(q**2+q+1)]\n",
    "#valtozok"
   ]
  },
  {
   "cell_type": "code",
   "execution_count": 3,
   "id": "e37ae050",
   "metadata": {},
   "outputs": [],
   "source": [
    "ssolver = Glucose3()\n",
    "normalforma=CNF()"
   ]
  },
  {
   "cell_type": "code",
   "execution_count": 4,
   "id": "f55b66dc",
   "metadata": {},
   "outputs": [],
   "source": [
    "#ne legyen olyan k, hogy van 2 változópár, amik egymástól k távolságra vannak és mind igaz értéket vesznek fel\n",
    "\n",
    "for k in range(1, q**2+q+1, 1):\n",
    "    for i in range(q**2+q+1):\n",
    "        for j in range(q**2+q+1):\n",
    "            if i != j:\n",
    "                normalforma.append([-valtozok[i], -valtozok[(i+k)%(q**2+q+1)], -valtozok[j], -valtozok[(j+k)%(q**2+q+1)]])\n",
    "            \n",
    "#print(normalforma.clauses)"
   ]
  },
  {
   "cell_type": "code",
   "execution_count": 5,
   "id": "d2b8458e",
   "metadata": {},
   "outputs": [],
   "source": [
    "#pontosan q+1 1-es legyen a változók között\n",
    "cnf=CardEnc.equals(lits=valtozok, bound=q+1, top_id=q**2+q+1)\n",
    "for cl in cnf.clauses:\n",
    "    normalforma.append(cl)"
   ]
  },
  {
   "cell_type": "code",
   "execution_count": 6,
   "id": "a619f3c2",
   "metadata": {},
   "outputs": [],
   "source": [
    "#beadom a sat-solvernek a normálformát\n",
    "for kloz in normalforma.clauses:\n",
    "    ssolver.add_clause(kloz)\n",
    "    \n",
    "# megoldás kiszámítása\n",
    "ssolver.solve()\n",
    "ans=ssolver.get_model()\n",
    "\n",
    "#print(ans)"
   ]
  },
  {
   "cell_type": "code",
   "execution_count": 7,
   "id": "c26c46ab",
   "metadata": {},
   "outputs": [
    {
     "name": "stdout",
     "output_type": "stream",
     "text": [
      "[0, 0, 0, 0, 0, 0, 0, 0, 0, 0, 0, 1, 0, 0, 0, 0, 0, 0, 0, 0, 0, 0, 0, 0, 0, 0, 0, 0, 0, 0, 0, 0, 0, 0, 0, 0, 1, 0, 0, 0, 0, 0, 0, 0, 0, 0, 0, 0, 0, 0, 0, 0, 0, 0, 0, 0, 0, 0, 0, 0, 0, 0, 0, 0, 0, 0, 0, 0, 0, 1, 0, 0, 0, 0, 0, 0, 0, 0, 0, 0, 0, 0, 0, 0, 1, 0, 0, 0, 0, 0, 0, 0, 0, 0, 0, 0, 0, 0, 0, 0, 0, 0, 0, 0, 0, 0, 0, 0, 0, 0, 0, 0, 0, 0, 0, 0, 0, 0, 0, 1, 1, 0, 0, 0, 1, 0, 0, 0, 0, 0, 0, 0, 0, 0, 0, 0, 0, 0, 0, 0, 0, 0, 0, 0, 0, 0, 0, 0, 0, 0, 0, 1, 0, 0, 0, 0, 0, 0, 0, 0, 0, 0, 0, 0, 0, 0, 0, 0, 0, 0, 0, 0, 0, 0, 0, 0, 0, 0, 0, 0, 0, 0, 0, 0, 0, 0, 0, 0, 0, 0, 0, 0, 0, 0, 1, 0, 0, 0, 0, 0, 1, 0, 0, 0, 0, 0, 0, 0, 0, 0, 0, 1, 0, 1, 0, 0, 0, 0, 0, 0, 1, 0, 0, 1, 0, 0, 0, 0, 0, 0, 0, 0, 0, 0, 0, 0, 0, 0, 0, 0, 0, 1, 0, 0, 0, 0, 0, 0, 0, 0, 0, 0, 0, 0, 0, 0, 0, 1, 0, 0, 0, 0, 0, 0, 0, 1, 0, 0, 0, 0, 0, 0, 0, 0, 0, 0, 0, 0, 0, 1, 0, 0, 0, 0, 0, 0, 0, 0, 0, 0, 0, 0, 0, 0, 0, 0, 0, 0, 0, 0, 0, 0, 0, 0, 0, 0, 0]\n"
     ]
    }
   ],
   "source": [
    "#kiprintelem a ciklikus véges projektív sík adjacenciamátrixát\n",
    "megoldaslista=[]\n",
    "for ele in ans[:q**2+q+1]:\n",
    "    if ele<0:\n",
    "        megoldaslista=megoldaslista+[0]\n",
    "    else:\n",
    "        megoldaslista=megoldaslista+[1]\n",
    "print(megoldaslista)"
   ]
  },
  {
   "cell_type": "code",
   "execution_count": 8,
   "id": "f8458cbf",
   "metadata": {},
   "outputs": [
    {
     "name": "stdout",
     "output_type": "stream",
     "text": [
      "[[0 0 0 ... 0 0 0]\n",
      " [0 0 0 ... 0 0 0]\n",
      " [0 0 0 ... 0 0 0]\n",
      " ...\n",
      " [0 0 0 ... 0 0 0]\n",
      " [0 0 0 ... 0 0 0]\n",
      " [0 0 0 ... 0 0 0]]\n"
     ]
    }
   ],
   "source": [
    "megoldasmatrix=[]\n",
    "for i in range(q**2+q+1):\n",
    "    l=[]\n",
    "    for j in range(q**2+q+1):\n",
    "        l=l+[megoldaslista[(i+j)%(q**2+q+1)]]\n",
    "    megoldasmatrix.append(l)\n",
    "\n",
    "szep=np.array(megoldasmatrix)\n",
    "print(szep)\n",
    "#np.savetxt(\"ciklikus_\"+str(q)+\".csv\", szep, fmt='%.0e')"
   ]
  },
  {
   "cell_type": "code",
   "execution_count": null,
   "id": "71ee2dbb",
   "metadata": {},
   "outputs": [],
   "source": [
    "#17-ra is lefutott, addig minden kisebbre is, amire van, de 10-re még nem"
   ]
  }
 ],
 "metadata": {
  "kernelspec": {
   "display_name": "Python 3 (ipykernel)",
   "language": "python",
   "name": "python3"
  },
  "language_info": {
   "codemirror_mode": {
    "name": "ipython",
    "version": 3
   },
   "file_extension": ".py",
   "mimetype": "text/x-python",
   "name": "python",
   "nbconvert_exporter": "python",
   "pygments_lexer": "ipython3",
   "version": "3.9.12"
  }
 },
 "nbformat": 4,
 "nbformat_minor": 5
}
