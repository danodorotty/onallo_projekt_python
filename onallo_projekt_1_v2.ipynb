{
 "cells": [
  {
   "cell_type": "code",
   "execution_count": 121,
   "id": "28813ba5",
   "metadata": {},
   "outputs": [],
   "source": [
    "#imports\n",
    "import pysat\n",
    "import numpy as np\n",
    "import matplotlib as plt\n",
    "import pandas as pd\n",
    "from pysat.solvers import Glucose3\n",
    "from pysat.card import *\n",
    "import time\n",
    "import datetime"
   ]
  },
  {
   "cell_type": "code",
   "execution_count": 122,
   "id": "771906c6",
   "metadata": {},
   "outputs": [],
   "source": [
    "q=5\n",
    "#dictionaryt kell csinálni\n",
    "valtozok=dict()\n",
    "k=1\n",
    "for i in range(q**2+q+1):\n",
    "    for j in range(q**2+q+1):\n",
    "        valtozok[tuple([i, j])]= k\n",
    "        k=k+1"
   ]
  },
  {
   "cell_type": "code",
   "execution_count": 123,
   "id": "df1e8dbc",
   "metadata": {},
   "outputs": [],
   "source": [
    "ssolver = Glucose3()\n",
    "normalforma=CNF()"
   ]
  },
  {
   "cell_type": "code",
   "execution_count": 124,
   "id": "576e7db9",
   "metadata": {},
   "outputs": [
    {
     "name": "stdout",
     "output_type": "stream",
     "text": [
      "0:00:18.209863\n"
     ]
    }
   ],
   "source": [
    "#minden sorban pontosan q+1 db 1-es legyen\n",
    "st1 = datetime.datetime.now()\n",
    "maxvaltozo=(q**2+q+1)**2\n",
    "for i in range(q**2+q+1):\n",
    "    l1=[]\n",
    "    for j in range(q**2+q+1):\n",
    "        l1=l1+[valtozok[(i,j)]]\n",
    "        \n",
    "    cnf=CardEnc.equals(lits=l1, bound=q+1, top_id=maxvaltozo)\n",
    "    for cl in cnf.clauses:\n",
    "        normalforma.append(cl)\n",
    "    \n",
    "    #az abselemek lista tartalmazza az eddig használt változók abszolút értékét\n",
    "    #a top_id frissítéséhez használom a maxvaltozo-t\n",
    "    abselemek=[]\n",
    "    for kloz in normalforma.clauses:\n",
    "        l2=[abs(elem) for elem in kloz]\n",
    "        abselemek=abselemek+l2\n",
    "    maxvaltozo=max(abselemek)\n",
    "#print(normalforma.clauses)\n",
    "et1 = datetime.datetime.now()\n",
    "blokkido1=et1-st1\n",
    "print(blokkido1)"
   ]
  },
  {
   "cell_type": "code",
   "execution_count": 125,
   "id": "c5e85f74",
   "metadata": {},
   "outputs": [
    {
     "name": "stdout",
     "output_type": "stream",
     "text": [
      "0:02:33.130380\n"
     ]
    }
   ],
   "source": [
    "#minden oszlopban pontosan q+1 db 1-es legyen\n",
    "st2 = datetime.datetime.now()\n",
    "for i in range(q**2+q+1):\n",
    "    l1=[]\n",
    "    for j in range(q**2+q+1):\n",
    "        l1=l1+[valtozok[(j,i)]]\n",
    "        \n",
    "    cnf=CardEnc.equals(lits=l1, bound=q+1, top_id=maxvaltozo)\n",
    "    for cl in cnf.clauses:\n",
    "        normalforma.append(cl)\n",
    "    \n",
    "    #az abselemek lista tartalmazza az eddig használt változók abszolút értékét\n",
    "    #a top_id frissítéséhez használom a maxvaltozo-t\n",
    "    abselemek=[]\n",
    "    for kloz in normalforma.clauses:\n",
    "        l2=[abs(elem) for elem in kloz]\n",
    "        abselemek=abselemek+l2\n",
    "    maxvaltozo=max(abselemek)\n",
    "    \n",
    "et2 = datetime.datetime.now()\n",
    "blokkido2=et2-st2\n",
    "print(blokkido2)"
   ]
  },
  {
   "cell_type": "code",
   "execution_count": 126,
   "id": "a57ffd9c",
   "metadata": {},
   "outputs": [],
   "source": [
    "#már csak az kell, hogy ne legyen csupa 1-es négyzet, vagyis i, k sor és j, l oszlop, hogy ij, il, kj, és kl is igaz\n",
    "for i in range(q**2+q+1):\n",
    "    for j in range(q**2+q+1):\n",
    "        for k in range(q**2+q+1):\n",
    "            for l in range(q**2+q+1):\n",
    "                x1=valtozok[(i,j)]\n",
    "                x2=valtozok[(i,l)]\n",
    "                x3=valtozok[(k,j)]\n",
    "                x4=valtozok[(k,l)]\n",
    "                if (x1!=x2 and x1!=x3 and x1!=x4 and x2!=x3 and x2!=x4 and x3!=x4):\n",
    "                    normalforma.clauses.append([-x1, -x2, -x3, -x4])"
   ]
  },
  {
   "cell_type": "code",
   "execution_count": 127,
   "id": "1216034f",
   "metadata": {},
   "outputs": [
    {
     "name": "stdout",
     "output_type": "stream",
     "text": [
      "19561\n"
     ]
    }
   ],
   "source": [
    "print(maxvaltozo)"
   ]
  },
  {
   "cell_type": "code",
   "execution_count": 128,
   "id": "eff6eb7c",
   "metadata": {},
   "outputs": [],
   "source": [
    "#beleírom a plusz feltevéseket, amiket a megoldások szimmetriája miatt feltehetünk\n",
    "#az első sor első q+1 eleme 1, a többi 0\n",
    "for i in range(q+1):\n",
    "    normalforma.clauses.append([valtozok[0, i]])\n",
    "for i in range(q+1, q**2+q+1, 1):\n",
    "    normalforma.clauses.append([-valtozok[0, i]])\n",
    "    \n",
    "#az első oszlop 2. elemétől a q+1-edik oszlop utolsó eleméig felírom a feltételeket, i lesz az oszlopindex, j a sorindex\n",
    "for i in range(q+1):\n",
    "    for j in range(1, q**2+q+1, 1):\n",
    "        if (j >= i*q+1 and j<(i+1)*q+1):\n",
    "            normalforma.clauses.append([valtozok[j,i]])\n",
    "        else:\n",
    "            normalforma.clauses.append([-valtozok[j, i]])\n",
    "\n",
    "#a q+2-edik oszlop formáját is elő lehet írni\n",
    "for i in range(1, q**2+q+1, 1):\n",
    "    if i%q==1:\n",
    "        normalforma.clauses.append([valtozok[i, q+1]])\n",
    "    else:\n",
    "        normalforma.clauses.append([-valtozok[i, q+1]])"
   ]
  },
  {
   "cell_type": "code",
   "execution_count": 129,
   "id": "7ec709b1",
   "metadata": {},
   "outputs": [],
   "source": [
    "#print(normalforma.clauses)"
   ]
  },
  {
   "cell_type": "code",
   "execution_count": 130,
   "id": "cbebe30b",
   "metadata": {},
   "outputs": [
    {
     "name": "stdout",
     "output_type": "stream",
     "text": [
      "0:00:11.031119\n"
     ]
    }
   ],
   "source": [
    "#beadom a sat-solvernek a normálformát\n",
    "st3=datetime.datetime.now()\n",
    "for kloz in normalforma.clauses:\n",
    "    ssolver.add_clause(kloz)\n",
    "    \n",
    "# megoldás kiszámítása\n",
    "ssolver.solve()\n",
    "ans=ssolver.get_model()\n",
    "#print(ans)\n",
    "et3=datetime.datetime.now()\n",
    "blokkido3=et3-st3\n",
    "print(blokkido3)"
   ]
  },
  {
   "cell_type": "code",
   "execution_count": 131,
   "id": "e47afc75",
   "metadata": {},
   "outputs": [
    {
     "name": "stdout",
     "output_type": "stream",
     "text": [
      "[[1 1 1 1 1 1 0 0 0 0 0 0 0 0 0 0 0 0 0 0 0 0 0 0 0 0 0 0 0 0 0]\n",
      " [1 0 0 0 0 0 1 0 0 0 0 0 0 1 1 0 0 0 0 0 1 0 1 0 0 0 0 0 0 0 0]\n",
      " [1 0 0 0 0 0 0 0 0 0 0 0 1 0 0 1 0 0 1 0 0 1 0 1 0 0 0 0 0 0 0]\n",
      " [1 0 0 0 0 0 0 0 1 1 0 1 0 0 0 0 1 0 0 0 0 0 0 0 0 0 0 0 0 0 1]\n",
      " [1 0 0 0 0 0 0 0 0 0 0 0 0 0 0 0 0 0 0 1 0 0 0 0 1 1 1 0 1 0 0]\n",
      " [1 0 0 0 0 0 0 1 0 0 1 0 0 0 0 0 0 1 0 0 0 0 0 0 0 0 0 1 0 1 0]\n",
      " [0 1 0 0 0 0 1 0 1 0 1 0 0 0 0 1 0 0 0 0 0 0 0 0 0 1 0 0 0 0 0]\n",
      " [0 1 0 0 0 0 0 0 0 0 0 0 1 1 0 0 1 0 0 0 0 0 0 0 0 0 1 0 0 1 0]\n",
      " [0 1 0 0 0 0 0 1 0 0 0 1 0 0 0 0 0 0 1 0 1 0 0 0 0 0 0 0 1 0 0]\n",
      " [0 1 0 0 0 0 0 0 0 0 0 0 0 0 0 0 0 0 0 1 0 0 1 1 0 0 0 1 0 0 1]\n",
      " [0 1 0 0 0 0 0 0 0 1 0 0 0 0 1 0 0 1 0 0 0 1 0 0 1 0 0 0 0 0 0]\n",
      " [0 0 1 0 0 0 1 1 0 0 0 0 1 0 0 0 0 0 0 0 0 0 0 0 1 0 0 0 0 0 1]\n",
      " [0 0 1 0 0 0 0 0 0 0 1 1 0 0 1 0 0 0 0 0 0 0 0 1 0 0 1 0 0 0 0]\n",
      " [0 0 1 0 0 0 0 0 1 0 0 0 0 1 0 0 0 1 1 1 0 0 0 0 0 0 0 0 0 0 0]\n",
      " [0 0 1 0 0 0 0 0 0 1 0 0 0 0 0 1 0 0 0 0 0 0 1 0 0 0 0 0 1 1 0]\n",
      " [0 0 1 0 0 0 0 0 0 0 0 0 0 0 0 0 1 0 0 0 1 1 0 0 0 1 0 1 0 0 0]\n",
      " [0 0 0 1 0 0 1 0 0 0 0 1 0 0 0 0 0 0 0 1 0 1 0 0 0 0 0 0 0 1 0]\n",
      " [0 0 0 1 0 0 0 1 0 1 0 0 0 1 0 0 0 0 0 0 0 0 0 1 0 1 0 0 0 0 0]\n",
      " [0 0 0 1 0 0 0 0 0 0 1 0 0 0 0 0 1 0 1 0 0 0 1 0 1 0 0 0 0 0 0]\n",
      " [0 0 0 1 0 0 0 0 1 0 0 0 1 0 1 0 0 0 0 0 0 0 0 0 0 0 0 1 1 0 0]\n",
      " [0 0 0 1 0 0 0 0 0 0 0 0 0 0 0 1 0 1 0 0 1 0 0 0 0 0 1 0 0 0 1]\n",
      " [0 0 0 0 1 0 1 0 0 1 0 0 0 0 0 0 0 0 1 0 0 0 0 0 0 0 1 1 0 0 0]\n",
      " [0 0 0 0 1 0 0 1 0 0 0 0 0 0 1 1 1 0 0 1 0 0 0 0 0 0 0 0 0 0 0]\n",
      " [0 0 0 0 1 0 0 0 0 0 0 1 1 0 0 0 0 1 0 0 0 0 1 0 0 1 0 0 0 0 0]\n",
      " [0 0 0 0 1 0 0 0 0 0 1 0 0 1 0 0 0 0 0 0 0 1 0 0 0 0 0 0 1 0 1]\n",
      " [0 0 0 0 1 0 0 0 1 0 0 0 0 0 0 0 0 0 0 0 1 0 0 1 1 0 0 0 0 1 0]\n",
      " [0 0 0 0 0 1 1 0 0 0 0 0 0 0 0 0 1 1 0 0 0 0 0 1 0 0 0 0 1 0 0]\n",
      " [0 0 0 0 0 1 0 0 0 0 0 1 0 1 0 1 0 0 0 0 0 0 0 0 1 0 0 1 0 0 0]\n",
      " [0 0 0 0 0 1 0 0 0 1 1 0 1 0 0 0 0 0 0 1 1 0 0 0 0 0 0 0 0 0 0]\n",
      " [0 0 0 0 0 1 0 0 0 0 0 0 0 0 1 0 0 0 1 0 0 0 0 0 0 1 0 0 0 1 1]\n",
      " [0 0 0 0 0 1 0 1 1 0 0 0 0 0 0 0 0 0 0 0 0 1 1 0 0 0 1 0 0 0 0]]\n"
     ]
    }
   ],
   "source": [
    "#csinálok egy listák listáját a megoldásból, amiben csak a nekünk releváns változók szerepelnek és csak 1-0 elemek vannak\n",
    "\n",
    "megoldaslista=[]\n",
    "for i in range(0, (q**2+q+1)**2, q**2+q+1):\n",
    "    l1=ans[i:i+q**2+q+1]\n",
    "    l2=[]\n",
    "    for elem in l1:\n",
    "        if elem>0:\n",
    "            l2=l2+[1]\n",
    "        else:\n",
    "            l2=l2+[0]\n",
    "    megoldaslista.append(l2)\n",
    "        \n",
    "#kiprintelem a megoldást mátrix alakban\n",
    "\n",
    "szepmatrix=np.array(megoldaslista)\n",
    "print(szepmatrix)"
   ]
  },
  {
   "cell_type": "code",
   "execution_count": 132,
   "id": "3e5fe4af",
   "metadata": {},
   "outputs": [
    {
     "name": "stdout",
     "output_type": "stream",
     "text": [
      "0:03:02.371362\n"
     ]
    }
   ],
   "source": [
    "print(blokkido1+blokkido2+blokkido3)"
   ]
  },
  {
   "cell_type": "code",
   "execution_count": null,
   "id": "4ba44ada",
   "metadata": {},
   "outputs": [],
   "source": []
  }
 ],
 "metadata": {
  "kernelspec": {
   "display_name": "Python 3 (ipykernel)",
   "language": "python",
   "name": "python3"
  },
  "language_info": {
   "codemirror_mode": {
    "name": "ipython",
    "version": 3
   },
   "file_extension": ".py",
   "mimetype": "text/x-python",
   "name": "python",
   "nbconvert_exporter": "python",
   "pygments_lexer": "ipython3",
   "version": "3.9.12"
  }
 },
 "nbformat": 4,
 "nbformat_minor": 5
}
