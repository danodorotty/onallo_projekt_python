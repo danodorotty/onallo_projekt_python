{
 "cells": [
  {
   "cell_type": "code",
   "execution_count": 2,
   "id": "05e446af",
   "metadata": {},
   "outputs": [],
   "source": [
    "#imports\n",
    "import pysat\n",
    "import numpy as np\n",
    "import matplotlib as plt\n",
    "import pandas as pd\n",
    "from pysat.solvers import Glucose3"
   ]
  },
  {
   "cell_type": "code",
   "execution_count": 5,
   "id": "15dd4161",
   "metadata": {},
   "outputs": [
    {
     "name": "stdout",
     "output_type": "stream",
     "text": [
      "{(0, 0): 1, (0, 1): 2, (0, 2): 3, (0, 3): 4, (0, 4): 5, (0, 5): 6, (1, 0): 7, (1, 1): 8, (1, 2): 9, (1, 3): 10, (1, 4): 11, (1, 5): 12, (2, 0): 13, (2, 1): 14, (2, 2): 15, (2, 3): 16, (2, 4): 17, (2, 5): 18, (3, 0): 19, (3, 1): 20, (3, 2): 21, (3, 3): 22, (3, 4): 23, (3, 5): 24, (4, 0): 25, (4, 1): 26, (4, 2): 27, (4, 3): 28, (4, 4): 29, (4, 5): 30, (5, 0): 31, (5, 1): 32, (5, 2): 33, (5, 3): 34, (5, 4): 35, (5, 5): 36}\n"
     ]
    }
   ],
   "source": [
    "q=2\n",
    "#dictionaryt kell csinálni\n",
    "valtozok=dict()\n",
    "k=1\n",
    "for i in range(q^2+q):\n",
    "    for j in range(q^2+q):\n",
    "        valtozok[i, j]= k\n",
    "        k=k+1\n",
    "print(valtozok)     "
   ]
  },
  {
   "cell_type": "code",
   "execution_count": null,
   "id": "743fccf9",
   "metadata": {},
   "outputs": [],
   "source": [
    "#ssolver = Glucose3()\n",
    "#normalforma=CNF()"
   ]
  }
 ],
 "metadata": {
  "kernelspec": {
   "display_name": "Python 3 (ipykernel)",
   "language": "python",
   "name": "python3"
  },
  "language_info": {
   "codemirror_mode": {
    "name": "ipython",
    "version": 3
   },
   "file_extension": ".py",
   "mimetype": "text/x-python",
   "name": "python",
   "nbconvert_exporter": "python",
   "pygments_lexer": "ipython3",
   "version": "3.9.12"
  }
 },
 "nbformat": 4,
 "nbformat_minor": 5
}
