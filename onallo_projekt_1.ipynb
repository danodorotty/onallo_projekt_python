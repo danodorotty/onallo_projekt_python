{
 "cells": [
  {
   "cell_type": "code",
   "execution_count": 1,
   "id": "05e446af",
   "metadata": {},
   "outputs": [],
   "source": [
    "#imports\n",
    "import pysat\n",
    "import numpy as np\n",
    "import matplotlib as plt\n",
    "import pandas as pd\n",
    "from pysat.solvers import Glucose3\n",
    "from pysat.card import *"
   ]
  },
  {
   "cell_type": "code",
   "execution_count": 2,
   "id": "15dd4161",
   "metadata": {},
   "outputs": [],
   "source": [
    "q=6\n",
    "#dictionaryt kell csinálni\n",
    "valtozok=dict()\n",
    "k=1\n",
    "for i in range(q**2+q+1):\n",
    "    for j in range(q**2+q+1):\n",
    "        valtozok[tuple([i, j])]= k\n",
    "        k=k+1\n",
    "#print(valtozok)     "
   ]
  },
  {
   "cell_type": "code",
   "execution_count": 3,
   "id": "743fccf9",
   "metadata": {},
   "outputs": [],
   "source": [
    "ssolver = Glucose3()\n",
    "normalforma=CNF()"
   ]
  },
  {
   "cell_type": "code",
   "execution_count": 4,
   "id": "06c2b334",
   "metadata": {},
   "outputs": [],
   "source": [
    "#minden sorban pontosan q+1 db 1-es legyen\n",
    "maxvaltozo=(q**2+q+1)**2\n",
    "for i in range(q**2+q+1):\n",
    "    l1=[]\n",
    "    for j in range(q**2+q+1):\n",
    "        l1=l1+[valtozok[(i,j)]]\n",
    "        \n",
    "    cnf=CardEnc.equals(lits=l1, bound=q+1, top_id=maxvaltozo)\n",
    "    for cl in cnf.clauses:\n",
    "        normalforma.append(cl)\n",
    "    \n",
    "    #az abselemek lista tartalmazza az eddig használt változók abszolút értékét\n",
    "    #a top_id frissítéséhez használom a maxvaltozo-t\n",
    "    abselemek=[]\n",
    "    for kloz in normalforma.clauses:\n",
    "        l2=[abs(elem) for elem in kloz]\n",
    "        abselemek=abselemek+l2\n",
    "    maxvaltozo=max(abselemek)\n",
    "#print(normalforma.clauses)\n"
   ]
  },
  {
   "cell_type": "code",
   "execution_count": 5,
   "id": "79060654",
   "metadata": {},
   "outputs": [
    {
     "data": {
      "text/plain": [
       "23521"
      ]
     },
     "execution_count": 5,
     "metadata": {},
     "output_type": "execute_result"
    }
   ],
   "source": [
    "maxvaltozo"
   ]
  },
  {
   "cell_type": "code",
   "execution_count": 6,
   "id": "a285ee03",
   "metadata": {},
   "outputs": [],
   "source": [
    "#minden oszlopban pontosan q+1 db 1-es legyen\n",
    "for i in range(q**2+q+1):\n",
    "    l1=[]\n",
    "    for j in range(q**2+q+1):\n",
    "        l1=l1+[valtozok[(j,i)]]\n",
    "        \n",
    "    cnf=CardEnc.equals(lits=l1, bound=q+1, top_id=maxvaltozo)\n",
    "    for cl in cnf.clauses:\n",
    "        normalforma.append(cl)\n",
    "    \n",
    "    #az abselemek lista tartalmazza az eddig használt változók abszolút értékét\n",
    "    #a top_id frissítéséhez használom a maxvaltozo-t\n",
    "    abselemek=[]\n",
    "    for kloz in normalforma.clauses:\n",
    "        l2=[abs(elem) for elem in kloz]\n",
    "        abselemek=abselemek+l2\n",
    "    maxvaltozo=max(abselemek)"
   ]
  },
  {
   "cell_type": "code",
   "execution_count": 7,
   "id": "3dec1f8b",
   "metadata": {},
   "outputs": [
    {
     "data": {
      "text/plain": [
       "45193"
      ]
     },
     "execution_count": 7,
     "metadata": {},
     "output_type": "execute_result"
    }
   ],
   "source": [
    "maxvaltozo"
   ]
  },
  {
   "cell_type": "code",
   "execution_count": 8,
   "id": "4e2e73dc",
   "metadata": {},
   "outputs": [],
   "source": [
    "#már csak az kell, hogy ne legyen csupa 1-es négyzet, vagyis i, k sor és j, l oszlop, hogy ij, il, kj, és kl is igaz\n",
    "for i in range(q**2+q+1):\n",
    "    for j in range(q**2+q+1):\n",
    "        for k in range(q**2+q+1):\n",
    "            for l in range(q**2+q+1):\n",
    "                x1=valtozok[(i,j)]\n",
    "                x2=valtozok[(i,l)]\n",
    "                x3=valtozok[(k,j)]\n",
    "                x4=valtozok[(k,l)]\n",
    "                if (x1!=x2 and x1!=x3 and x1!=x4 and x2!=x3 and x2!=x4 and x3!=x4):\n",
    "                    normalforma.clauses.append([-x1, -x2, -x3, -x4])"
   ]
  },
  {
   "cell_type": "code",
   "execution_count": null,
   "id": "df1ecd91",
   "metadata": {},
   "outputs": [],
   "source": [
    "#beadom a sat-solvernek a normálformát\n",
    "for kloz in normalforma.clauses:\n",
    "    ssolver.add_clause(kloz)\n",
    "    \n",
    "# megoldás kiszámítása\n",
    "ssolver.solve()\n",
    "#ans=ssolver.get_model()\n",
    "#print(ans)"
   ]
  },
  {
   "cell_type": "code",
   "execution_count": null,
   "id": "94c947ab",
   "metadata": {},
   "outputs": [],
   "source": [
    "#sikerült! jó lenne kicsit látványosabban tudni dekódolni az outputot"
   ]
  },
  {
   "cell_type": "code",
   "execution_count": null,
   "id": "52074743",
   "metadata": {},
   "outputs": [],
   "source": []
  }
 ],
 "metadata": {
  "kernelspec": {
   "display_name": "Python 3 (ipykernel)",
   "language": "python",
   "name": "python3"
  },
  "language_info": {
   "codemirror_mode": {
    "name": "ipython",
    "version": 3
   },
   "file_extension": ".py",
   "mimetype": "text/x-python",
   "name": "python",
   "nbconvert_exporter": "python",
   "pygments_lexer": "ipython3",
   "version": "3.9.12"
  }
 },
 "nbformat": 4,
 "nbformat_minor": 5
}
