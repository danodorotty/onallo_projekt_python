{
 "cells": [
  {
   "cell_type": "code",
   "execution_count": 14,
   "id": "05e446af",
   "metadata": {},
   "outputs": [],
   "source": [
    "#imports\n",
    "import pysat\n",
    "import numpy as np\n",
    "import matplotlib as plt\n",
    "import pandas as pd\n",
    "from pysat.solvers import Glucose3\n",
    "from pysat.card import *"
   ]
  },
  {
   "cell_type": "code",
   "execution_count": 15,
   "id": "15dd4161",
   "metadata": {},
   "outputs": [],
   "source": [
    "q=6\n",
    "#dictionaryt kell csinálni\n",
    "valtozok=dict()\n",
    "k=1\n",
    "for i in range(q**2+q+1):\n",
    "    for j in range(q**2+q+1):\n",
    "        valtozok[tuple([i, j])]= k\n",
    "        k=k+1\n",
    "#print(valtozok)     "
   ]
  },
  {
   "cell_type": "code",
   "execution_count": 16,
   "id": "743fccf9",
   "metadata": {},
   "outputs": [],
   "source": [
    "ssolver = Glucose3()\n",
    "normalforma=CNF()"
   ]
  },
  {
   "cell_type": "code",
   "execution_count": 13,
   "id": "06c2b334",
   "metadata": {},
   "outputs": [
    {
     "ename": "KeyboardInterrupt",
     "evalue": "",
     "output_type": "error",
     "traceback": [
      "\u001b[1;31m---------------------------------------------------------------------------\u001b[0m",
      "\u001b[1;31mKeyboardInterrupt\u001b[0m                         Traceback (most recent call last)",
      "Input \u001b[1;32mIn [13]\u001b[0m, in \u001b[0;36m<cell line: 3>\u001b[1;34m()\u001b[0m\n\u001b[0;32m     15\u001b[0m \u001b[38;5;28;01mfor\u001b[39;00m kloz \u001b[38;5;129;01min\u001b[39;00m normalforma\u001b[38;5;241m.\u001b[39mclauses:\n\u001b[0;32m     16\u001b[0m     l2\u001b[38;5;241m=\u001b[39m[\u001b[38;5;28mabs\u001b[39m(elem) \u001b[38;5;28;01mfor\u001b[39;00m elem \u001b[38;5;129;01min\u001b[39;00m kloz]\n\u001b[1;32m---> 17\u001b[0m     abselemek\u001b[38;5;241m=\u001b[39mabselemek\u001b[38;5;241m+\u001b[39ml2\n\u001b[0;32m     18\u001b[0m maxvaltozo\u001b[38;5;241m=\u001b[39m\u001b[38;5;28mmax\u001b[39m(abselemek)\n",
      "\u001b[1;31mKeyboardInterrupt\u001b[0m: "
     ]
    }
   ],
   "source": [
    "#minden sorban pontosan q+1 db 1-es legyen\n",
    "maxvaltozo=(q**2+q+1)**2\n",
    "for i in range(q**2+q+1):\n",
    "    l1=[]\n",
    "    for j in range(q**2+q+1):\n",
    "        l1=l1+[valtozok[(i,j)]]\n",
    "        \n",
    "    cnf=CardEnc.equals(lits=l1, bound=q+1, top_id=maxvaltozo)\n",
    "    for cl in cnf.clauses:\n",
    "        normalforma.append(cl)\n",
    "    \n",
    "    #az abselemek lista tartalmazza az eddig használt változók abszolút értékét\n",
    "    #a top_id frissítéséhez használom a maxvaltozo-t\n",
    "    abselemek=[]\n",
    "    for kloz in normalforma.clauses:\n",
    "        l2=[abs(elem) for elem in kloz]\n",
    "        abselemek=abselemek+l2\n",
    "    maxvaltozo=max(abselemek)\n",
    "#print(normalforma.clauses)\n"
   ]
  },
  {
   "cell_type": "code",
   "execution_count": 5,
   "id": "79060654",
   "metadata": {},
   "outputs": [
    {
     "data": {
      "text/plain": [
       "23521"
      ]
     },
     "execution_count": 5,
     "metadata": {},
     "output_type": "execute_result"
    }
   ],
   "source": [
    "maxvaltozo"
   ]
  },
  {
   "cell_type": "code",
   "execution_count": 6,
   "id": "a285ee03",
   "metadata": {},
   "outputs": [],
   "source": [
    "#minden oszlopban pontosan q+1 db 1-es legyen\n",
    "for i in range(q**2+q+1):\n",
    "    l1=[]\n",
    "    for j in range(q**2+q+1):\n",
    "        l1=l1+[valtozok[(j,i)]]\n",
    "        \n",
    "    cnf=CardEnc.equals(lits=l1, bound=q+1, top_id=maxvaltozo)\n",
    "    for cl in cnf.clauses:\n",
    "        normalforma.append(cl)\n",
    "    \n",
    "    #az abselemek lista tartalmazza az eddig használt változók abszolút értékét\n",
    "    #a top_id frissítéséhez használom a maxvaltozo-t\n",
    "    abselemek=[]\n",
    "    for kloz in normalforma.clauses:\n",
    "        l2=[abs(elem) for elem in kloz]\n",
    "        abselemek=abselemek+l2\n",
    "    maxvaltozo=max(abselemek)"
   ]
  },
  {
   "cell_type": "code",
   "execution_count": 8,
   "id": "cf6ac7ce",
   "metadata": {},
   "outputs": [],
   "source": []
  },
  {
   "cell_type": "code",
   "execution_count": 9,
   "id": "3dec1f8b",
   "metadata": {},
   "outputs": [
    {
     "data": {
      "text/plain": [
       "882575"
      ]
     },
     "execution_count": 9,
     "metadata": {},
     "output_type": "execute_result"
    }
   ],
   "source": [
    "maxvaltozo"
   ]
  },
  {
   "cell_type": "code",
   "execution_count": 17,
   "id": "4e2e73dc",
   "metadata": {},
   "outputs": [],
   "source": [
    "#már csak az kell, hogy ne legyen csupa 1-es négyzet, vagyis i, k sor és j, l oszlop, hogy ij, il, kj, és kl is igaz\n",
    "for i in range(q**2+q+1):\n",
    "    for j in range(q**2+q+1):\n",
    "        for k in range(q**2+q+1):\n",
    "            for l in range(q**2+q+1):\n",
    "                x1=valtozok[(i,j)]\n",
    "                x2=valtozok[(i,l)]\n",
    "                x3=valtozok[(k,j)]\n",
    "                x4=valtozok[(k,l)]\n",
    "                if (x1!=x2 and x1!=x3 and x1!=x4 and x2!=x3 and x2!=x4 and x3!=x4):\n",
    "                    normalforma.clauses.append([-x1, -x2, -x3, -x4])"
   ]
  },
  {
   "cell_type": "code",
   "execution_count": null,
   "id": "df1ecd91",
   "metadata": {},
   "outputs": [],
   "source": [
    "#beadom a sat-solvernek a normálformát\n",
    "for kloz in normalforma.clauses:\n",
    "    ssolver.add_clause(kloz)\n",
    "    \n",
    "# megoldás kiszámítása\n",
    "ssolver.solve()\n",
    "#ans=ssolver.get_model()\n",
    "#print(ans)"
   ]
  },
  {
   "cell_type": "markdown",
   "id": "98e939ed",
   "metadata": {},
   "source": [
    "# Másik megoldás"
   ]
  },
  {
   "cell_type": "code",
   "execution_count": 18,
   "id": "94c947ab",
   "metadata": {},
   "outputs": [],
   "source": [
    "#beleírom a plusz feltevéseket, amiket a megoldások szimmetriája miatt feltehetünk\n",
    "#az első sor első q+1 eleme 1, a többi 0\n",
    "for i in range(q+1):\n",
    "    normalforma.clauses.append([valtozok[0, i]])\n",
    "for i in range(q+1, q**2+q+1, 1):\n",
    "    normalforma.clauses.append([-valtozok[0, i]])\n",
    "    \n",
    "#az első oszlop 2. elemétől a q+1-edik oszlop utolsó eleméig felírom a feltételeket, i lesz az oszlopindex, j a sorindex\n",
    "for i in range(q+1):\n",
    "    for j in range(1, q**2+q+1, 1):\n",
    "        if (j >= i*q+1 and j<(i+1)*q+1):\n",
    "            normalforma.clauses.append([valtozok[j,i]])\n",
    "        else:\n",
    "            normalforma.clauses.append([-valtozok[j, i]])\n",
    "\n",
    "#a q+2-edik oszlop formáját is elő lehet írni\n",
    "for i in range(1, q**2+q+1, 1):\n",
    "    if i%q==1:\n",
    "        normalforma.clauses.append([valtozok[i, q+1]])\n",
    "    else:\n",
    "        normalforma.clauses.append([-valtozok[i, q+1]])"
   ]
  },
  {
   "cell_type": "code",
   "execution_count": null,
   "id": "d4e3bc2b",
   "metadata": {},
   "outputs": [],
   "source": [
    "#már csak az kell, hogy ne legyen csupa 1-es négyzet, vagyis i, k sor és j, l oszlop, hogy ij, il, kj, és kl is igaz\n",
    "for i in range(q**2+q+1):\n",
    "    for j in range(q**2+q+1):\n",
    "        for k in range(q**2+q+1):\n",
    "            for l in range(q**2+q+1):\n",
    "                x1=valtozok[(i,j)]\n",
    "                x2=valtozok[(i,l)]\n",
    "                x3=valtozok[(k,j)]\n",
    "                x4=valtozok[(k,l)]\n",
    "                if (x1!=x2 and x1!=x3 and x1!=x4 and x2!=x3 and x2!=x4 and x3!=x4):\n",
    "                    normalforma.clauses.append([-x1, -x2, -x3, -x4])"
   ]
  },
  {
   "cell_type": "code",
   "execution_count": null,
   "id": "52074743",
   "metadata": {},
   "outputs": [],
   "source": [
    "#módosítom a sorfeltételeket, miután lefixáltam néhány változó igazságértékét\n",
    "#minden sorban pontosan q-1 db 1-es legyen még a lefixáltakon kívül\n",
    "maxvaltozo=(q**2+q+1)**2\n",
    "for i in range(1, q**2+q+1, 1):\n",
    "    l1=[]\n",
    "    for j in range(q+2, q**2+q+1, 1):\n",
    "        l1=l1+[valtozok[(i,j)]]\n",
    "        \n",
    "    cnf=CardEnc.equals(lits=l1, bound=q-1, top_id=maxvaltozo)\n",
    "    for cl in cnf.clauses:\n",
    "        normalforma.append(cl)\n",
    "    \n",
    "    #az abselemek lista tartalmazza az eddig használt változók abszolút értékét\n",
    "    #a top_id frissítéséhez használom a maxvaltozo-t\n",
    "    abselemek=[]\n",
    "    for kloz in normalforma.clauses:\n",
    "        l2=[abs(elem) for elem in kloz]\n",
    "        abselemek=abselemek+l2\n",
    "    maxvaltozo=max(abselemek)"
   ]
  },
  {
   "cell_type": "code",
   "execution_count": null,
   "id": "7ba6662a",
   "metadata": {},
   "outputs": [],
   "source": [
    "maxvaltozo"
   ]
  },
  {
   "cell_type": "code",
   "execution_count": null,
   "id": "d5669d59",
   "metadata": {},
   "outputs": [],
   "source": [
    "#minden oszlopban pontosan q+1 db 1-es legyen\n",
    "for i in range(q+2, q**2+q+1, 1):\n",
    "    l1=[]\n",
    "    for j in range(1, q**2+q+1, 1):\n",
    "        l1=l1+[valtozok[(j,i)]]\n",
    "        \n",
    "    cnf=CardEnc.equals(lits=l1, bound=q+1, top_id=maxvaltozo)\n",
    "    for cl in cnf.clauses:\n",
    "        normalforma.append(cl)\n",
    "    \n",
    "    #az abselemek lista tartalmazza az eddig használt változók abszolút értékét\n",
    "    #a top_id frissítéséhez használom a maxvaltozo-t\n",
    "    abselemek=[]\n",
    "    for kloz in normalforma.clauses:\n",
    "        l2=[abs(elem) for elem in kloz]\n",
    "        abselemek=abselemek+l2\n",
    "    maxvaltozo=max(abselemek)"
   ]
  },
  {
   "cell_type": "code",
   "execution_count": null,
   "id": "c36479d8",
   "metadata": {},
   "outputs": [],
   "source": [
    "maxvaltozo"
   ]
  },
  {
   "cell_type": "code",
   "execution_count": null,
   "id": "00a535a4",
   "metadata": {},
   "outputs": [],
   "source": [
    "#beadom a sat-solvernek a normálformát\n",
    "for kloz in normalforma.clauses:\n",
    "    ssolver.add_clause(kloz)\n",
    "    \n",
    "# megoldás kiszámítása\n",
    "ssolver.solve()\n",
    "ans=ssolver.get_model()\n",
    "print(ans)"
   ]
  }
 ],
 "metadata": {
  "kernelspec": {
   "display_name": "Python 3 (ipykernel)",
   "language": "python",
   "name": "python3"
  },
  "language_info": {
   "codemirror_mode": {
    "name": "ipython",
    "version": 3
   },
   "file_extension": ".py",
   "mimetype": "text/x-python",
   "name": "python",
   "nbconvert_exporter": "python",
   "pygments_lexer": "ipython3",
   "version": "3.9.12"
  }
 },
 "nbformat": 4,
 "nbformat_minor": 5
}
