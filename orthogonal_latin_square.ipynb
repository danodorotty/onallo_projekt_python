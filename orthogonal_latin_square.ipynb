{
 "cells": [
  {
   "cell_type": "markdown",
   "id": "1aed4c8b",
   "metadata": {},
   "source": [
    "# Feladat: SAT-solverrel keressünk r db n*n-es, páronként ortogonális latin négyzetet\n",
    "\n",
    "## Változók:\n",
    "\n",
    "x_{i,j,k,l} = indikátora annak, hogy az i. sor j. oszlopában a k. szimbólum van az l. latin négyzetben\n",
    "\n",
    "i, j, k \\in {0,...,n-1}\n",
    "\n",
    "l \\in {1,...,r}"
   ]
  },
  {
   "cell_type": "code",
   "execution_count": 10,
   "id": "077e6195",
   "metadata": {},
   "outputs": [],
   "source": [
    "#imports\n",
    "import pysat\n",
    "import numpy as np\n",
    "import matplotlib as plt\n",
    "import pandas as pd\n",
    "from pysat.solvers import Glucose3\n",
    "from pysat.card import *"
   ]
  },
  {
   "cell_type": "code",
   "execution_count": 11,
   "id": "72acb36c",
   "metadata": {},
   "outputs": [],
   "source": [
    "#változók generálása\n",
    "n=6\n",
    "r=2\n",
    "valtozok=dict()\n",
    "x=1\n",
    "for i in range(n):\n",
    "    for j in range(n):\n",
    "        for k in range(n):\n",
    "            for l in range(r):\n",
    "                valtozok[tuple([i, j, k, l])] = x\n",
    "                x=x+1\n",
    "#print(valtozok)"
   ]
  },
  {
   "cell_type": "code",
   "execution_count": 12,
   "id": "a03e2380",
   "metadata": {},
   "outputs": [],
   "source": [
    "ssolver = Glucose3()\n",
    "normalforma=CNF()"
   ]
  },
  {
   "cell_type": "code",
   "execution_count": 13,
   "id": "109e39db",
   "metadata": {},
   "outputs": [],
   "source": [
    "# Feltételek: \n",
    "# 1.: minden latin négyzet minden cellájában pontosan 1 szimbólum szerepel\n",
    "\n",
    "maxvaltozo = r*n**3\n",
    "for l in range(r):\n",
    "    for i in range(n):\n",
    "        for j in range(n):\n",
    "            l1=[]\n",
    "            for k in range(n):\n",
    "                l1=l1+[valtozok[(i,j, k, l)]]\n",
    "        \n",
    "            cnf=CardEnc.equals(lits=l1, bound=1, top_id=maxvaltozo)\n",
    "            for cl in cnf.clauses:\n",
    "                normalforma.append(cl)\n",
    "    \n",
    "            #az abselemek lista tartalmazza az eddig használt változók abszolút értékét\n",
    "            #a top_id frissítéséhez használom a maxvaltozo-t\n",
    "            abselemek=[]\n",
    "            for kloz in normalforma.clauses:\n",
    "                l2=[abs(elem) for elem in kloz]\n",
    "                abselemek=abselemek+l2\n",
    "            maxvaltozo=max(abselemek)"
   ]
  },
  {
   "cell_type": "code",
   "execution_count": 14,
   "id": "76591943",
   "metadata": {},
   "outputs": [],
   "source": [
    "# 2.: Minden szimbólumból minden latin négyzet minden sorában pontosan egy van\n",
    "\n",
    "for l in range(r):\n",
    "    for i in range(n):\n",
    "        for k in range(n):\n",
    "            l1=[]\n",
    "            for j in range(n):\n",
    "                l1=l1+[valtozok[(i,j, k, l)]]\n",
    "        \n",
    "            cnf=CardEnc.equals(lits=l1, bound=1, top_id=maxvaltozo)\n",
    "            for cl in cnf.clauses:\n",
    "                normalforma.append(cl)\n",
    "    \n",
    "            #az abselemek lista tartalmazza az eddig használt változók abszolút értékét\n",
    "            #a top_id frissítéséhez használom a maxvaltozo-t\n",
    "            abselemek=[]\n",
    "            for kloz in normalforma.clauses:\n",
    "                l2=[abs(elem) for elem in kloz]\n",
    "                abselemek=abselemek+l2\n",
    "            maxvaltozo=max(abselemek)"
   ]
  },
  {
   "cell_type": "code",
   "execution_count": 15,
   "id": "7045324c",
   "metadata": {},
   "outputs": [],
   "source": [
    "# 3.: Minden szimbólumból minden latin négyzet minden oszlopában pontosan egy elem van\n",
    "\n",
    "for l in range(r):\n",
    "    for j in range(n):\n",
    "        for k in range(n):\n",
    "            l1=[]\n",
    "            for i in range(n):\n",
    "                l1=l1+[valtozok[(i,j, k, l)]]\n",
    "        \n",
    "            cnf=CardEnc.equals(lits=l1, bound=1, top_id=maxvaltozo)\n",
    "            for cl in cnf.clauses:\n",
    "                normalforma.append(cl)\n",
    "    \n",
    "            #az abselemek lista tartalmazza az eddig használt változók abszolút értékét\n",
    "            #a top_id frissítéséhez használom a maxvaltozo-t\n",
    "            abselemek=[]\n",
    "            for kloz in normalforma.clauses:\n",
    "                l2=[abs(elem) for elem in kloz]\n",
    "                abselemek=abselemek+l2\n",
    "            maxvaltozo=max(abselemek)"
   ]
  },
  {
   "cell_type": "code",
   "execution_count": 16,
   "id": "dd429d81",
   "metadata": {},
   "outputs": [],
   "source": [
    "# 4.: minden latin négyzetben minden szimbólumból pontosan n db van\n",
    "\n",
    "for l in range(r):\n",
    "    for k in range(n):\n",
    "        l1=[]\n",
    "        for i in range(n):\n",
    "            for j in range(n):\n",
    "                l1=l1+[valtozok[(i, j, k, l)]]\n",
    "                \n",
    "        cnf=CardEnc.equals(lits=l1, bound=n, top_id=maxvaltozo)\n",
    "        for cl in cnf.clauses:\n",
    "            normalforma.append(cl)\n",
    "\n",
    "        #az abselemek lista tartalmazza az eddig használt változók abszolút értékét\n",
    "        #a top_id frissítéséhez használom a maxvaltozo-t\n",
    "        abselemek=[]\n",
    "        for kloz in normalforma.clauses:\n",
    "            l2=[abs(elem) for elem in kloz]\n",
    "            abselemek=abselemek+l2\n",
    "        maxvaltozo=max(abselemek)"
   ]
  },
  {
   "cell_type": "code",
   "execution_count": 17,
   "id": "d5d22599",
   "metadata": {},
   "outputs": [],
   "source": [
    "# A latin négyzetek páronként legyenek ortogonálisak:\n",
    "# Ne legyen két latin négyzet, amiben van 2 cella, amikben szereplő szimbólumpárok megegyeznek.\n",
    "\n",
    "for l1 in range(r):\n",
    "    for l2 in range(r):\n",
    "        for i1 in range(n):\n",
    "            for j1 in range(n):\n",
    "                for i2 in range(n):\n",
    "                    for j2 in range(n):\n",
    "                        for k1 in range(n):\n",
    "                            for k2 in range(n):\n",
    "                                if l1 != l2 and i1 != i2 and j1 != j2:\n",
    "                                    x1 = valtozok[(i1, j1, k1, l1)]\n",
    "                                    x2 = valtozok[(i1, j1, k2, l2)]\n",
    "                                    x3 = valtozok[(i2, j2, k1, l1)]\n",
    "                                    x4 = valtozok[(i2, j2, k2, l2)]\n",
    "                                    normalforma.append([-x1, -x2, -x3, -x4])\n",
    "                            "
   ]
  },
  {
   "cell_type": "code",
   "execution_count": null,
   "id": "8b5638c9",
   "metadata": {},
   "outputs": [],
   "source": [
    "#beadom a sat-solvernek a normálformát\n",
    "for kloz in normalforma.clauses:\n",
    "    ssolver.add_clause(kloz)\n",
    "    \n",
    "# megoldás kiszámítása\n",
    "ssolver.solve()\n",
    "ans=ssolver.get_model()\n",
    "print(ans)"
   ]
  },
  {
   "cell_type": "code",
   "execution_count": null,
   "id": "f068f104",
   "metadata": {},
   "outputs": [],
   "source": []
  },
  {
   "cell_type": "code",
   "execution_count": null,
   "id": "d47e8808",
   "metadata": {},
   "outputs": [],
   "source": []
  }
 ],
 "metadata": {
  "kernelspec": {
   "display_name": "Python 3 (ipykernel)",
   "language": "python",
   "name": "python3"
  },
  "language_info": {
   "codemirror_mode": {
    "name": "ipython",
    "version": 3
   },
   "file_extension": ".py",
   "mimetype": "text/x-python",
   "name": "python",
   "nbconvert_exporter": "python",
   "pygments_lexer": "ipython3",
   "version": "3.9.12"
  }
 },
 "nbformat": 4,
 "nbformat_minor": 5
}
